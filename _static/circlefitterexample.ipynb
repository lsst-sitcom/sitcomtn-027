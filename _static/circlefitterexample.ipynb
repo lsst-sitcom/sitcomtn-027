{
 "cells": [
  {
   "cell_type": "markdown",
   "id": "e2ca06c1-6d44-4484-8a8f-c9f5fedece3d",
   "metadata": {},
   "source": [
    "# Minimal working example of the circleFitter code\n",
    "This is a minimal working example, this imports the code, sets up a data set and relevant config info (November 2021 AuxTel run)"
   ]
  },
  {
   "cell_type": "code",
   "execution_count": 20,
   "id": "b35a89b8-fb72-4fc5-8375-1fe801d20e23",
   "metadata": {},
   "outputs": [],
   "source": [
    "import circleFitter as fc\n",
    "import numpy as np\n",
    "from scipy import linalg"
   ]
  },
  {
   "cell_type": "code",
   "execution_count": 21,
   "id": "610e0698-64d6-4513-a540-cddd2fe5056f",
   "metadata": {},
   "outputs": [],
   "source": [
    "dayObs = 20211102\n",
    "s1 = [s for s in range(501, 554+1)]\n",
    "seqList=s1\n",
    "config = {\"Halfbox\": 1200, \"kernel\": 61, \"minclip\": 0.2, \"maxclip\" :0.8,\n",
    "                  \"outerRadius\": 750, \"innerRadius\": 290, \"vmin\": 10,\n",
    "                  \"vmax\": 500, \"normPercent\": 90, \"skyPercent\": 15,\n",
    "                  \"minDistOuter\": 200, \"minDistInner\": 300\n",
    "                  }"
   ]
  },
  {
   "cell_type": "code",
   "execution_count": 22,
   "id": "09438fc0-6e49-49be-845e-da56e51725e3",
   "metadata": {},
   "outputs": [
    {
     "name": "stdout",
     "output_type": "stream",
     "text": [
      "Seq_num: 501, dx_offset=-18, dy_offset=-6\n",
      "Seq_num: 502, dx_offset=-22, dy_offset=-10\n",
      "Seq_num: 503, dx_offset=-20, dy_offset=2\n",
      "Seq_num: 504, dx_offset=-16, dy_offset=-2\n",
      "Seq_num: 505, dx_offset=-14, dy_offset=-16\n",
      "Seq_num: 506, dx_offset=-2, dy_offset=-6\n",
      "Seq_num: 507, dx_offset=4, dy_offset=0\n",
      "Seq_num: 508, dx_offset=4, dy_offset=-4\n",
      "Seq_num: 509, dx_offset=0, dy_offset=-2\n",
      "Seq_num: 510, dx_offset=4, dy_offset=0\n",
      "Seq_num: 511, dx_offset=4, dy_offset=8\n",
      "Seq_num: 512, dx_offset=12, dy_offset=8\n",
      "Seq_num: 513, dx_offset=12, dy_offset=0\n",
      "Seq_num: 514, dx_offset=12, dy_offset=4\n",
      "Seq_num: 515, dx_offset=16, dy_offset=2\n",
      "Seq_num: 516, dx_offset=24, dy_offset=6\n",
      "Seq_num: 517, dx_offset=32, dy_offset=6\n",
      "Seq_num: 518, dx_offset=28, dy_offset=14\n",
      "Seq_num: 519, dx_offset=-8, dy_offset=16\n",
      "Seq_num: 520, dx_offset=-6, dy_offset=26\n",
      "Seq_num: 521, dx_offset=2, dy_offset=14\n",
      "Seq_num: 522, dx_offset=-6, dy_offset=12\n",
      "Seq_num: 523, dx_offset=-4, dy_offset=8\n",
      "Seq_num: 524, dx_offset=-2, dy_offset=20\n",
      "Seq_num: 525, dx_offset=-4, dy_offset=-4\n",
      "Seq_num: 526, dx_offset=4, dy_offset=0\n",
      "Seq_num: 527, dx_offset=2, dy_offset=0\n",
      "Seq_num: 528, dx_offset=4, dy_offset=6\n",
      "Seq_num: 529, dx_offset=8, dy_offset=-6\n",
      "Seq_num: 530, dx_offset=8, dy_offset=2\n",
      "Seq_num: 531, dx_offset=0, dy_offset=-14\n",
      "Seq_num: 532, dx_offset=2, dy_offset=-18\n",
      "Seq_num: 533, dx_offset=0, dy_offset=-10\n",
      "Seq_num: 534, dx_offset=10, dy_offset=-28\n",
      "Seq_num: 535, dx_offset=6, dy_offset=-18\n",
      "Seq_num: 536, dx_offset=10, dy_offset=-14\n",
      "Seq_num: 537, dx_offset=-28, dy_offset=12\n",
      "Seq_num: 538, dx_offset=-34, dy_offset=14\n",
      "Seq_num: 539, dx_offset=-28, dy_offset=14\n",
      "Seq_num: 540, dx_offset=-8, dy_offset=12\n",
      "Seq_num: 541, dx_offset=-16, dy_offset=10\n",
      "Seq_num: 542, dx_offset=-8, dy_offset=4\n",
      "Seq_num: 543, dx_offset=0, dy_offset=2\n",
      "Seq_num: 544, dx_offset=14, dy_offset=-2\n",
      "Seq_num: 545, dx_offset=32, dy_offset=22\n",
      "Seq_num: 546, dx_offset=14, dy_offset=-8\n",
      "Seq_num: 547, dx_offset=10, dy_offset=-12\n",
      "Seq_num: 548, dx_offset=0, dy_offset=-8\n",
      "Seq_num: 549, dx_offset=2, dy_offset=-4\n",
      "Seq_num: 550, dx_offset=4, dy_offset=-10\n",
      "Seq_num: 551, dx_offset=8, dy_offset=-14\n",
      "Seq_num: 552, dx_offset=20, dy_offset=-18\n",
      "Seq_num: 553, dx_offset=32, dy_offset=-14\n",
      "Seq_num: 554, dx_offset=24, dy_offset=-30\n"
     ]
    }
   ],
   "source": [
    "\n",
    "efd_infos, dxs, dys, planeSkew = fc.findCircles(dayObs, seqList, planeSkew = True, config = config)"
   ]
  },
  {
   "cell_type": "markdown",
   "id": "746250fa-24fa-49d4-bb42-b7e7d5966d9c",
   "metadata": {},
   "source": [
    "We have now done all the circle fitting, but what does our results actually tell us?"
   ]
  },
  {
   "cell_type": "code",
   "execution_count": 23,
   "id": "a72a9ed7-1f01-41ea-bd69-861d6f768f16",
   "metadata": {},
   "outputs": [],
   "source": [
    "x = [d['x'] for d in efd_infos]\n",
    "y = [d['y'] for d in efd_infos]\n",
    "grad_x = [d[0] for d in planeSkew]\n",
    "grad_y = [d[1] for d in planeSkew]\n",
    "\n",
    "# we need a row of ones for the fitting we are about it\n",
    "ones = np.ones_like(x)\n",
    "A = np.c_[x,y, ones]"
   ]
  },
  {
   "cell_type": "markdown",
   "id": "f4cd325b-8c9d-455d-834a-3b47c533635e",
   "metadata": {},
   "source": [
    "### Now we will do two fits\n",
    "one for the the displacements, and one for the planeSkew. First the displacements"
   ]
  },
  {
   "cell_type": "code",
   "execution_count": 25,
   "id": "d73c485f-f3a2-4082-b644-f43593acfa50",
   "metadata": {},
   "outputs": [
    {
     "name": "stdout",
     "output_type": "stream",
     "text": [
      "the center according to displacements: [[-3.67968985]\n",
      " [ 2.35730859]]\n"
     ]
    }
   ],
   "source": [
    "C_1,_,_,_ =linalg.lstsq(A,dxs)\n",
    "C_2,_,_,_ =linalg.lstsq(A,dys)\n",
    "\n",
    "Anew = np.array([[C_1[0],C_1[1]],[C_2[0],C_2[1]]])\n",
    "offset = np.array([[C_1[2]],[C_2[2]]])\n",
    "\n",
    "center = linalg.inv(Anew)@(-offset)\n",
    "print(f\"the center according to displacements: {center}\")"
   ]
  },
  {
   "cell_type": "code",
   "execution_count": 26,
   "id": "315b117f-1875-4c45-b1ce-370a696d0dc5",
   "metadata": {},
   "outputs": [
    {
     "name": "stdout",
     "output_type": "stream",
     "text": [
      "the center according to the planeSkew: [[-3.92733066]\n",
      " [ 2.24245547]]\n"
     ]
    }
   ],
   "source": [
    "C_3,_,_,_ =linalg.lstsq(A,grad_x)\n",
    "C_4,_,_,_ =linalg.lstsq(A,grad_y)\n",
    "\n",
    "Bnew = np.array([[C_3[0],C_3[1]],[C_4[0],C_4[1]]])\n",
    "Boffset = np.array([[C_3[2]],[C_4[2]]])\n",
    "center2 = linalg.inv(Bnew)@(-Boffset)\n",
    "print(f\"the center according to the planeSkew: {center2}\")"
   ]
  }
 ],
 "metadata": {
  "kernelspec": {
   "display_name": "LSST",
   "language": "python",
   "name": "lsst"
  },
  "language_info": {
   "codemirror_mode": {
    "name": "ipython",
    "version": 3
   },
   "file_extension": ".py",
   "mimetype": "text/x-python",
   "name": "python",
   "nbconvert_exporter": "python",
   "pygments_lexer": "ipython3",
   "version": "3.8.8"
  }
 },
 "nbformat": 4,
 "nbformat_minor": 5
}
